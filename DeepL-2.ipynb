{
 "cells": [
  {
   "cell_type": "markdown",
   "metadata": {},
   "source": [
    "# Esperimento 2 - Deep Learning"
   ]
  },
  {
   "cell_type": "markdown",
   "metadata": {},
   "source": [
    "\n",
    "---\n",
    "\n",
    "**Esperimento:** Creare un Convolutional Autoencoder per allenare un Neural Network sul dataset KMnist."
   ]
  },
  {
   "cell_type": "markdown",
   "metadata": {},
   "source": [
    "Definiamo le variabili e le funzioni di base e importiamo le librerie richieste:"
   ]
  },
  {
   "cell_type": "code",
   "execution_count": 1,
   "metadata": {},
   "outputs": [],
   "source": [
    "#from google.colab import drive             # Nel caso si voglia eseguire il codice su Google Colab, togliere i commenti a questi import.\n",
    "import numpy as np\n",
    "import torch\n",
    "from dadapy import data\n",
    "from torchvision.datasets import KMNIST\n",
    "from torchvision.transforms import ToTensor as tvToTensor\n",
    "import matplotlib.pyplot as plt\n",
    "\n",
    "\n",
    "#drive.mount('/content/drive')\n",
    "#%cd drive/MyDrive/DeepLearning2022"
   ]
  },
  {
   "cell_type": "code",
   "execution_count": 2,
   "metadata": {},
   "outputs": [],
   "source": [
    "batch_size = 4096               # E' possibile ridurre la batch_size nel caso il device non sia capace di sostenere il load.\n",
    "training_rate = 0.002\n",
    "momentum = 0.98\n",
    "gamma = 0.9995\n",
    "dropout = 0.2\n",
    "weight_decay = 0.0\n",
    "alpha = 0.33\n",
    "device = torch.device(\"cuda:0\" if torch.cuda.is_available() else \"cpu\")"
   ]
  },
  {
   "cell_type": "code",
   "execution_count": 3,
   "metadata": {},
   "outputs": [],
   "source": [
    "def display_images(input, output):\n",
    "    if input is not None:\n",
    "        plt.figure(figsize=(18, 4))\n",
    "        for i in range(4):\n",
    "            plt.subplot(1,4,i+1)\n",
    "            plt.imshow(input[i].reshape(28,28), cmap=\"gray\")    \n",
    "    plt.figure(figsize=(18, 4))\n",
    "    for i in range(4):\n",
    "        plt.subplot(1,4,i+1)\n",
    "        plt.imshow(output[i].reshape(28,28), cmap=\"gray\")"
   ]
  },
  {
   "attachments": {},
   "cell_type": "markdown",
   "metadata": {},
   "source": [
    "---\n",
    "\n",
    "### Step 1"
   ]
  },
  {
   "attachments": {},
   "cell_type": "markdown",
   "metadata": {},
   "source": [
    "Calcolo della dimensione intrinseca del dataset kMNIST tramite <a href=\"https://www.nature.com/articles/s41598-017-11873-y\">TwoNN</a>, utilizzando il <a href=\"https://dadapy.readthedocs.io/en/latest/jupyter_example_3.html\">dadapy package</a>."
   ]
  },
  {
   "cell_type": "code",
   "execution_count": 4,
   "metadata": {},
   "outputs": [
    {
     "name": "stdout",
     "output_type": "stream",
     "text": [
      "21\n"
     ]
    }
   ],
   "source": [
    "_decimation = 1.0\n",
    "\n",
    "trainset = KMNIST(root='./data', train=True, download=True, transform=tvToTensor())\n",
    "testset = KMNIST(root='./data', train=False, download=True, transform=tvToTensor())\n",
    "\n",
    "nptrainset = trainset.data.numpy().reshape(-1,28*28) # Trasforma le immagini in 2D in liste. La shape è (60000,784).\n",
    "_data = data.Data(nptrainset)\n",
    "id_twoNN, _, r = _data.compute_id_2NN(fraction=0.9,decimation=_decimation) # Calcola la dimensione intrinseca del dataset kMNIST (dovrebbe avere un valore attorno a 20). Potrebbe richiedere del tempo per essere calcolata, ridurre la decimation velocizza il processo.\n",
    "print(int(id_twoNN)+1)"
   ]
  },
  {
   "attachments": {},
   "cell_type": "markdown",
   "metadata": {},
   "source": [
    "---"
   ]
  },
  {
   "cell_type": "markdown",
   "metadata": {},
   "source": [
    "### Step 2\n"
   ]
  },
  {
   "cell_type": "markdown",
   "metadata": {},
   "source": [
    "Andiamo a definire l'autoencoder che utilizzeremo per ridurre la dimensionalità di KMNIST:"
   ]
  },
  {
   "cell_type": "code",
   "execution_count": 5,
   "metadata": {},
   "outputs": [],
   "source": [
    "d = int(id_twoNN)+1\n",
    "\n",
    "class AE(torch.nn.Module):\n",
    "    def __init__(self):\n",
    "        super().__init__()\n",
    "        \n",
    "        self.encoder = torch.nn.Sequential(\n",
    "            torch.nn.Conv2d(in_channels=1, out_channels=32, kernel_size=3, stride=1, padding=0),\n",
    "            torch.nn.ELU(alpha=alpha),\n",
    "            torch.nn.MaxPool2d(kernel_size=2),\n",
    "            torch.nn.Dropout(p=dropout),\n",
    "            torch.nn.Conv2d(in_channels=32, out_channels=64, kernel_size=3, stride=2, padding=1),\n",
    "            torch.nn.ELU(alpha=alpha),\n",
    "            torch.nn.MaxPool2d(kernel_size=2,stride=1),\n",
    "            torch.nn.Flatten(),\n",
    "            torch.nn.Linear(6*6*64, d)\n",
    "        )\n",
    "        self.decoder = torch.nn.Sequential(\n",
    "            torch.nn.Linear(d, 64*8*8),\n",
    "            torch.nn.ELU(alpha=alpha),\n",
    "            torch.nn.Unflatten(1, torch.Size([64, 8, 8])),\n",
    "            torch.nn.ConvTranspose2d(in_channels=64, out_channels=32, kernel_size=2, stride=2, padding=1),\n",
    "            torch.nn.ELU(alpha=alpha),\n",
    "            torch.nn.ConvTranspose2d(in_channels=32, out_channels=1, kernel_size=2, stride=2, padding=0),\n",
    "        )    \n",
    "\n",
    "    def forward(self, x):\n",
    "        out = self.encoder(x)\n",
    "        out = self.decoder(out)\n",
    "        return out\n",
    "\n",
    "autoencoder = AE().to(device)"
   ]
  },
  {
   "cell_type": "markdown",
   "metadata": {},
   "source": [
    "Definiamo l'optimizer e la funzione loss:"
   ]
  },
  {
   "cell_type": "code",
   "execution_count": 6,
   "metadata": {},
   "outputs": [],
   "source": [
    "trainloader = torch.utils.data.DataLoader(trainset, batch_size=batch_size, shuffle=True)\n",
    "testloader = torch.utils.data.DataLoader(testset, batch_size=batch_size, shuffle=True)\n",
    "\n",
    "optimizer_ae = torch.optim.Adam(autoencoder.parameters(), lr=training_rate)\n",
    "loss_ae = torch.nn.MSELoss(reduction='sum')"
   ]
  },
  {
   "cell_type": "markdown",
   "metadata": {},
   "source": [
    "Alleniamo il nostro autoencoder sul dataset KMNIST:"
   ]
  },
  {
   "cell_type": "code",
   "execution_count": 7,
   "metadata": {},
   "outputs": [
    {
     "name": "stdout",
     "output_type": "stream",
     "text": [
      "Epoch 1 Training loss:93.4564140625\n",
      "Epoch 2 Training loss:75.41785885416667\n",
      "Epoch 3 Training loss:64.33439140625\n",
      "Epoch 4 Training loss:56.50814348958333\n",
      "Epoch 5 Training loss:51.22865677083333\n",
      "Epoch 6 Training loss:46.97366354166667\n",
      "Epoch 7 Training loss:43.87718854166667\n",
      "Epoch 8 Training loss:41.59649661458333\n",
      "Epoch 9 Training loss:39.82682916666667\n",
      "Epoch 10 Training loss:38.30151875\n",
      "Epoch 11 Training loss:37.120136197916665\n",
      "Epoch 12 Training loss:35.978472395833336\n",
      "Epoch 13 Training loss:34.93794557291667\n",
      "Epoch 14 Training loss:34.15027395833334\n",
      "Epoch 15 Training loss:33.542284635416664\n",
      "Epoch 16 Training loss:32.892461328125\n",
      "Epoch 17 Training loss:32.268566666666665\n",
      "Epoch 18 Training loss:31.824947786458335\n",
      "Epoch 19 Training loss:31.401473697916668\n",
      "Epoch 20 Training loss:31.118419010416666\n",
      "Epoch 21 Training loss:30.667124088541666\n",
      "Epoch 22 Training loss:30.284900390625\n",
      "Epoch 23 Training loss:30.075800130208332\n",
      "Epoch 24 Training loss:29.8376015625\n",
      "Epoch 25 Training loss:29.53174609375\n",
      "Epoch 26 Training loss:29.242137239583332\n",
      "Epoch 27 Training loss:28.969014583333333\n",
      "Epoch 28 Training loss:28.751808463541668\n",
      "Epoch 29 Training loss:28.672338411458334\n",
      "Epoch 30 Training loss:28.398208333333333\n",
      "Epoch 31 Training loss:28.188402473958334\n",
      "Epoch 32 Training loss:28.067322786458334\n",
      "Epoch 33 Training loss:27.871126432291668\n",
      "Epoch 34 Training loss:27.742697265625\n",
      "Epoch 35 Training loss:27.556422916666666\n",
      "Epoch 36 Training loss:27.36734375\n",
      "Epoch 37 Training loss:27.464894921875\n",
      "Epoch 38 Training loss:27.152186458333333\n",
      "Epoch 39 Training loss:27.01047109375\n",
      "Epoch 40 Training loss:26.924367317708334\n",
      "Epoch 41 Training loss:27.071304166666668\n",
      "Epoch 42 Training loss:26.765144921875\n",
      "Epoch 43 Training loss:26.618220182291665\n",
      "Epoch 44 Training loss:26.479093359375\n",
      "Epoch 45 Training loss:26.386968098958334\n",
      "Epoch 46 Training loss:26.388995182291666\n",
      "Epoch 47 Training loss:27.294533333333334\n",
      "Epoch 48 Training loss:26.458765885416668\n",
      "Epoch 49 Training loss:26.11590494791667\n",
      "Epoch 50 Training loss:25.979457421875\n",
      "Test set loss:29.947178125\n"
     ]
    },
    {
     "data": {
      "image/png": "[encoded data removed]",
      "text/plain": [
       "<Figure size 1800x400 with 4 Axes>"
      ]
     },
     "metadata": {},
     "output_type": "display_data"
    },
    {
     "data": {
      "image/png": "[encoded data removed]",
      "text/plain": [
       "<Figure size 1800x400 with 4 Axes>"
      ]
     },
     "metadata": {},
     "output_type": "display_data"
    }
   ],
   "source": [
    "epochs = 50    # 300 epochs sono il limite per il miglioramento del loss.\n",
    "\n",
    "\n",
    "for epoch in range(epochs):\n",
    "    autoencoder.train()\n",
    "    train_loss = 0\n",
    "    for x,y in iter(trainloader):\n",
    "        x=x.to(device)\n",
    "        x_hat=autoencoder(x)\n",
    "        l=loss_ae(x_hat,x)\n",
    "        train_loss+=l.item()\n",
    "        optimizer_ae.zero_grad()\n",
    "        l.backward()\n",
    "        optimizer_ae.step()\n",
    "        \n",
    "    print(\"Epoch \"+str(epoch+1)+\" Training loss:\"+str(train_loss / (len(trainloader.dataset))))\n",
    "        \n",
    "\n",
    "with torch.no_grad():\n",
    "    autoencoder.eval()\n",
    "    test_loss=0 \n",
    "    for x,y in iter(testloader):\n",
    "            x=x.to(device)\n",
    "            x_hat=autoencoder(x)\n",
    "            l=loss_ae(x_hat,x)\n",
    "            test_loss+=l.item()\n",
    "    test_loss /= len(testloader.dataset)\n",
    "    print(\"Test set loss:\"+str(test_loss))\n",
    "    display_images(x.cpu(), x_hat.cpu())"
   ]
  },
  {
   "attachments": {},
   "cell_type": "markdown",
   "metadata": {},
   "source": [
    "---"
   ]
  },
  {
   "attachments": {},
   "cell_type": "markdown",
   "metadata": {},
   "source": [
    "### Step 3"
   ]
  },
  {
   "attachments": {},
   "cell_type": "markdown",
   "metadata": {},
   "source": [
    "Definiamo un classificatore lineare che fa uso dell'encoder come \"metodo di compressione\" per il nostro dataset:"
   ]
  },
  {
   "cell_type": "code",
   "execution_count": 8,
   "metadata": {},
   "outputs": [],
   "source": [
    "class LinearClassifier(torch.nn.Module):\n",
    "    def __init__(self):\n",
    "        super().__init__()\n",
    "        self.layer1 = torch.nn.Linear(in_features=d, out_features=16, bias=True)\n",
    "        self.layer2 = torch.nn.Linear(in_features=16,out_features=10, bias=True)\n",
    "        self.activation = torch.nn.ELU(alpha=alpha)\n",
    "        \n",
    "    def forward(self, x):\n",
    "        x=self.activation(self.layer1(x))\n",
    "        x=self.layer2(x)\n",
    "        return x\n",
    "\n",
    "\n",
    "classifier = LinearClassifier().to(device)"
   ]
  },
  {
   "attachments": {},
   "cell_type": "markdown",
   "metadata": {},
   "source": [
    "Definiamo l'optimizer, lo scheduler e la funzione loss del classificatore:"
   ]
  },
  {
   "cell_type": "code",
   "execution_count": 9,
   "metadata": {},
   "outputs": [],
   "source": [
    "optimizer_cl = torch.optim.SGD(classifier.parameters(), lr=training_rate, momentum=momentum)\n",
    "scheduler_cl = torch.optim.lr_scheduler.ExponentialLR(optimizer_cl, gamma=gamma)\n",
    "loss_cl = torch.nn.CrossEntropyLoss()"
   ]
  },
  {
   "attachments": {},
   "cell_type": "markdown",
   "metadata": {},
   "source": [
    "Definiamo le funzioni per aggiustare il dataset all'architettura (in particolare una funzione per modificare i labels da numeri ad array selettori) e la funzione per l'accuratezza:"
   ]
  },
  {
   "cell_type": "code",
   "execution_count": 10,
   "metadata": {},
   "outputs": [
    {
     "name": "stdout",
     "output_type": "stream",
     "text": [
      "tensor([[0., 0., 0., 0., 0., 0., 1., 0., 0., 0.]], device='cuda:0')\n"
     ]
    }
   ],
   "source": [
    "def selector(y):\n",
    "    out = torch.zeros([y.size(dim=0), 10], dtype=torch.float32)\n",
    "    for idx,k in enumerate(y):\n",
    "        out[idx][k] = 1.0\n",
    "    out = out.to(device)\n",
    "    return out\n",
    "\n",
    "\n",
    "def get_accuracy(model, dataloader):\n",
    "    model.eval()\n",
    "    with torch.no_grad():\n",
    "        correct=0\n",
    "        for x, y in iter(dataloader):\n",
    "            x = x.to(device)\n",
    "            y = y.to(device)\n",
    "            x=autoencoder.encoder(x)\n",
    "            out=model(x)\n",
    "            correct+=(torch.argmax(out, axis=1)==y).sum()\n",
    "        return (correct/len(dataloader.dataset)).item()\n",
    "\n",
    "print(selector(torch.tensor([6])))"
   ]
  },
  {
   "attachments": {},
   "cell_type": "markdown",
   "metadata": {},
   "source": [
    "Alleniamo il classifier sul dataset (compresso):"
   ]
  },
  {
   "cell_type": "code",
   "execution_count": 11,
   "metadata": {},
   "outputs": [
    {
     "name": "stdout",
     "output_type": "stream",
     "text": [
      "Test accuracy:  0.10329999774694443\n",
      "Epoch:  0\n",
      "Test accuracy:  0.13459999859333038\n",
      "Epoch:  1\n",
      "Test accuracy:  0.21469999849796295\n",
      "Epoch:  2\n",
      "Test accuracy:  0.2970999777317047\n",
      "Epoch:  3\n",
      "Test accuracy:  0.35349997878074646\n",
      "Epoch:  4\n",
      "Test accuracy:  0.3781999945640564\n",
      "Epoch:  5\n",
      "Test accuracy:  0.4034000039100647\n",
      "Epoch:  6\n",
      "Test accuracy:  0.42899999022483826\n",
      "Epoch:  7\n",
      "Test accuracy:  0.46889999508857727\n",
      "Epoch:  8\n",
      "Test accuracy:  0.4949999749660492\n",
      "Epoch:  9\n",
      "Test accuracy:  0.5156999826431274\n",
      "Epoch:  10\n",
      "Test accuracy:  0.5248000025749207\n",
      "Epoch:  11\n",
      "Test accuracy:  0.5403000116348267\n",
      "Epoch:  12\n",
      "Test accuracy:  0.5633000135421753\n",
      "Epoch:  13\n",
      "Test accuracy:  0.5791999697685242\n",
      "Epoch:  14\n",
      "Test accuracy:  0.5938999652862549\n",
      "Epoch:  15\n",
      "Test accuracy:  0.6049000024795532\n",
      "Epoch:  16\n",
      "Test accuracy:  0.6151999831199646\n",
      "Epoch:  17\n",
      "Test accuracy:  0.6225000023841858\n",
      "Epoch:  18\n",
      "Test accuracy:  0.6284999847412109\n",
      "Epoch:  19\n",
      "Test accuracy:  0.6317999958992004\n",
      "Epoch:  20\n",
      "Test accuracy:  0.6365999579429626\n",
      "Epoch:  21\n",
      "Test accuracy:  0.6413999795913696\n",
      "Epoch:  22\n",
      "Test accuracy:  0.6455000042915344\n",
      "Epoch:  23\n",
      "Test accuracy:  0.6499999761581421\n",
      "Epoch:  24\n",
      "Test accuracy:  0.652899980545044\n",
      "Epoch:  25\n",
      "Test accuracy:  0.6559999585151672\n",
      "Epoch:  26\n",
      "Test accuracy:  0.6583999991416931\n",
      "Epoch:  27\n",
      "Test accuracy:  0.6620999574661255\n",
      "Epoch:  28\n",
      "Test accuracy:  0.665399968624115\n",
      "Epoch:  29\n",
      "Test accuracy:  0.6680999994277954\n",
      "Epoch:  30\n",
      "Test accuracy:  0.6711999773979187\n",
      "Epoch:  31\n",
      "Test accuracy:  0.6744999885559082\n",
      "Epoch:  32\n",
      "Test accuracy:  0.6762999892234802\n",
      "Epoch:  33\n",
      "Test accuracy:  0.6776999831199646\n",
      "Epoch:  34\n",
      "Test accuracy:  0.6800999641418457\n",
      "Epoch:  35\n",
      "Test accuracy:  0.6814000010490417\n",
      "Epoch:  36\n",
      "Test accuracy:  0.6839999556541443\n",
      "Epoch:  37\n",
      "Test accuracy:  0.6855999827384949\n",
      "Epoch:  38\n",
      "Test accuracy:  0.6883999705314636\n",
      "Epoch:  39\n",
      "Final accuracy:  0.6902999877929688\n"
     ]
    },
    {
     "data": {
      "text/plain": [
       "Text(0, 0.5, 'MSE Loss')"
      ]
     },
     "execution_count": 11,
     "metadata": {},
     "output_type": "execute_result"
    },
    {
     "data": {
      "image/png": "[encoded data removed]",
      "text/plain": [
       "<Figure size 640x480 with 1 Axes>"
      ]
     },
     "metadata": {},
     "output_type": "display_data"
    }
   ],
   "source": [
    "epochs=40\n",
    "\n",
    "losses=[]\n",
    "for epoch in range(epochs):\n",
    "    print(\"Test accuracy: \", get_accuracy(classifier, testloader))\n",
    "    classifier.train()\n",
    "    print(\"Epoch: \", epoch)\n",
    "    for x, y in iter(trainloader):\n",
    "        x = x.to(device)\n",
    "        x = autoencoder.encoder(x)\n",
    "        y = y.unsqueeze(1)\n",
    "        y = selector(y)\n",
    "        out=classifier(x)\n",
    "        l=loss_cl(out, y)\n",
    "        optimizer_cl.zero_grad()\n",
    "        l.backward()\n",
    "        optimizer_cl.step()\n",
    "        losses.append(l.item())\n",
    "    scheduler_cl.step()\n",
    "print(\"Final accuracy: \", get_accuracy(classifier, testloader))\n",
    "\n",
    "plt.figure()\n",
    "plt.title(\"KMNIST batch loss\")\n",
    "plt.plot(losses)\n",
    "plt.xlabel(\"Optimization step\")\n",
    "plt.ylabel(\"MSE Loss\")"
   ]
  },
  {
   "attachments": {},
   "cell_type": "markdown",
   "metadata": {},
   "source": [
    "### Conclusioni"
   ]
  },
  {
   "attachments": {},
   "cell_type": "markdown",
   "metadata": {},
   "source": [
    "L'autoencoder riesce a comprimere il dataset kMNIST nelle d features calcolate allo Step 1 e un classificatore è capace di catalogare le immagini in base a queste features.<br>\n",
    "Con 300 epochs sull'autoencoder e 40 epochs sul classificatore è possibile raggiungere un'accuratezza del ~75% in maniera consistente, un risultato decisamente migliore rispetto alla selezione casuale (~10% di accuratezza)."
   ]
  }
 ],
 "metadata": {
  "kernelspec": {
   "display_name": "Python 3.10.7 64-bit",
   "language": "python",
   "name": "python3"
  },
  "language_info": {
   "codemirror_mode": {
    "name": "ipython",
    "version": 3
   },
   "file_extension": ".py",
   "mimetype": "text/x-python",
   "name": "python",
   "nbconvert_exporter": "python",
   "pygments_lexer": "ipython3",
   "version": "3.10.7 (tags/v3.10.7:6cc6b13, Sep  5 2022, 14:08:36) [MSC v.1933 64 bit (AMD64)]"
  },
  "orig_nbformat": 4,
  "vscode": {
   "interpreter": {
    "hash": "e611b0851ec25071b4b85132416ea565c11a628bf418623b3546e687a0b7c369"
   }
  }
 },
 "nbformat": 4,
 "nbformat_minor": 2
}
